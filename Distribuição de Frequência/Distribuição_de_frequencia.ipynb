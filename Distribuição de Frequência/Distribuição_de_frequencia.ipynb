{
  "nbformat": 4,
  "nbformat_minor": 0,
  "metadata": {
    "colab": {
      "provenance": [],
      "toc_visible": true
    },
    "kernelspec": {
      "name": "python3",
      "display_name": "Python 3"
    },
    "language_info": {
      "name": "python"
    }
  },
  "cells": [
    {
      "cell_type": "markdown",
      "source": [
        "#ordenação"
      ],
      "metadata": {
        "id": "IUMYJOYU3jMr"
      }
    },
    {
      "cell_type": "code",
      "source": [
        "import numpy as np\n",
        "import matplotlib.pyplot as plt\n",
        "import pandas as pd\n",
        "import seaborn as sns "
      ],
      "metadata": {
        "id": "Nhrk5jSn3lg6"
      },
      "execution_count": 1,
      "outputs": []
    },
    {
      "cell_type": "code",
      "source": [
        "dados = np.array([160, 165, 167, 164, 160, 166, 160, 161, 150, 152, 173, 160, 155,\n",
        "                  164, 168, 162, 161, 168, 163, 156, 155, 169, 151, 170, 164,\n",
        "                  155, 152, 163, 160, 155, 157, 156, 158, 158, 161, 154, 161, 156, 172, 153])"
      ],
      "metadata": {
        "id": "f83AbfuI31vh"
      },
      "execution_count": 2,
      "outputs": []
    },
    {
      "cell_type": "code",
      "source": [
        "dados = np.sort(dados)"
      ],
      "metadata": {
        "id": "TJjBA-IM4fbA"
      },
      "execution_count": 3,
      "outputs": []
    },
    {
      "cell_type": "code",
      "source": [
        "dados"
      ],
      "metadata": {
        "colab": {
          "base_uri": "https://localhost:8080/"
        },
        "id": "q0vjuF5V4hqI",
        "outputId": "c76bc105-20fd-4dfe-c14a-9f364d1fdd06"
      },
      "execution_count": 4,
      "outputs": [
        {
          "output_type": "execute_result",
          "data": {
            "text/plain": [
              "array([150, 151, 152, 152, 153, 154, 155, 155, 155, 155, 156, 156, 156,\n",
              "       157, 158, 158, 160, 160, 160, 160, 160, 161, 161, 161, 161, 162,\n",
              "       163, 163, 164, 164, 164, 165, 166, 167, 168, 168, 169, 170, 172,\n",
              "       173])"
            ]
          },
          "metadata": {},
          "execution_count": 4
        }
      ]
    },
    {
      "cell_type": "code",
      "source": [
        "minimo = dados.min()"
      ],
      "metadata": {
        "id": "8i_k8Rnk4m1o"
      },
      "execution_count": 5,
      "outputs": []
    },
    {
      "cell_type": "code",
      "source": [
        "maximo = dados.max()"
      ],
      "metadata": {
        "id": "yB5rZs2v4pmI"
      },
      "execution_count": 6,
      "outputs": []
    },
    {
      "cell_type": "code",
      "source": [
        "minimo, maximo"
      ],
      "metadata": {
        "colab": {
          "base_uri": "https://localhost:8080/"
        },
        "id": "YTjR9Med4rlA",
        "outputId": "e70d282b-7152-430b-8057-d7547ccfdfc4"
      },
      "execution_count": 8,
      "outputs": [
        {
          "output_type": "execute_result",
          "data": {
            "text/plain": [
              "(150, 173)"
            ]
          },
          "metadata": {},
          "execution_count": 8
        }
      ]
    },
    {
      "cell_type": "code",
      "source": [
        "np.unique(dados, return_counts=True)"
      ],
      "metadata": {
        "colab": {
          "base_uri": "https://localhost:8080/"
        },
        "id": "6r9zoPtA4xZh",
        "outputId": "3577e0be-c450-4b86-f662-622fa031e8f6"
      },
      "execution_count": 9,
      "outputs": [
        {
          "output_type": "execute_result",
          "data": {
            "text/plain": [
              "(array([150, 151, 152, 153, 154, 155, 156, 157, 158, 160, 161, 162, 163,\n",
              "        164, 165, 166, 167, 168, 169, 170, 172, 173]),\n",
              " array([1, 1, 2, 1, 1, 4, 3, 1, 2, 5, 4, 1, 2, 3, 1, 1, 1, 2, 1, 1, 1, 1]))"
            ]
          },
          "metadata": {},
          "execution_count": 9
        }
      ]
    },
    {
      "cell_type": "code",
      "source": [
        "plt.bar(dados, dados)"
      ],
      "metadata": {
        "colab": {
          "base_uri": "https://localhost:8080/",
          "height": 283
        },
        "id": "Kl36AVQZ47sY",
        "outputId": "ea3c08a7-b81d-4b0c-f6e2-b4803a3538d5"
      },
      "execution_count": 10,
      "outputs": [
        {
          "output_type": "execute_result",
          "data": {
            "text/plain": [
              "<BarContainer object of 40 artists>"
            ]
          },
          "metadata": {},
          "execution_count": 10
        },
        {
          "output_type": "display_data",
          "data": {
            "text/plain": [
              "<Figure size 432x288 with 1 Axes>"
            ],
            "image/png": "[encoded data removed]"
          },
          "metadata": {
            "needs_background": "light"
          }
        }
      ]
    },
    {
      "cell_type": "markdown",
      "source": [
        "# **Número de classes**"
      ],
      "metadata": {
        "id": "ot9wgL5Z5a8a"
      }
    },
    {
      "cell_type": "markdown",
      "source": [
        "i = 1 + 3.3 log n"
      ],
      "metadata": {
        "id": "3gOGcedK5fjq"
      }
    },
    {
      "cell_type": "code",
      "source": [
        "n = len(dados)\n",
        "n"
      ],
      "metadata": {
        "colab": {
          "base_uri": "https://localhost:8080/"
        },
        "id": "ZRkVN54b5kA5",
        "outputId": "fc4c134f-4ffe-4041-dd33-5ca770af2f8e"
      },
      "execution_count": 11,
      "outputs": [
        {
          "output_type": "execute_result",
          "data": {
            "text/plain": [
              "40"
            ]
          },
          "metadata": {},
          "execution_count": 11
        }
      ]
    },
    {
      "cell_type": "code",
      "source": [
        "i = 1 + 3.3 * np.log10(n)\n",
        "i"
      ],
      "metadata": {
        "colab": {
          "base_uri": "https://localhost:8080/"
        },
        "id": "uGDVPtEH5ouZ",
        "outputId": "c7a3ab09-25a8-48df-bf46-8da753a0cd98"
      },
      "execution_count": 12,
      "outputs": [
        {
          "output_type": "execute_result",
          "data": {
            "text/plain": [
              "6.286797971382276"
            ]
          },
          "metadata": {},
          "execution_count": 12
        }
      ]
    },
    {
      "cell_type": "code",
      "source": [
        "i = round(i)\n",
        "i"
      ],
      "metadata": {
        "colab": {
          "base_uri": "https://localhost:8080/"
        },
        "id": "I1hcP4ut5yFP",
        "outputId": "fde7beab-6a03-430a-d3f1-a973198b770e"
      },
      "execution_count": 14,
      "outputs": [
        {
          "output_type": "execute_result",
          "data": {
            "text/plain": [
              "6"
            ]
          },
          "metadata": {},
          "execution_count": 14
        }
      ]
    },
    {
      "cell_type": "markdown",
      "source": [
        "# **Amplitude do intervalo**\n"
      ],
      "metadata": {
        "id": "dxWxJim5552o"
      }
    },
    {
      "cell_type": "code",
      "source": [
        "#h = AA / i\n",
        "#AA = xmax - xmin"
      ],
      "metadata": {
        "id": "RwtRbuMR6GL4"
      },
      "execution_count": null,
      "outputs": []
    },
    {
      "cell_type": "code",
      "source": [
        "aa = maximo - minimo\n",
        "aa"
      ],
      "metadata": {
        "colab": {
          "base_uri": "https://localhost:8080/"
        },
        "id": "nhyRIM3V6w6_",
        "outputId": "f5ba0a50-c887-4003-d9e4-a66bfc53beb8"
      },
      "execution_count": 15,
      "outputs": [
        {
          "output_type": "execute_result",
          "data": {
            "text/plain": [
              "23"
            ]
          },
          "metadata": {},
          "execution_count": 15
        }
      ]
    },
    {
      "cell_type": "code",
      "source": [
        "h = aa / i\n",
        "h"
      ],
      "metadata": {
        "colab": {
          "base_uri": "https://localhost:8080/"
        },
        "id": "LsQk3yw662MP",
        "outputId": "cbb3c209-3a13-4f13-fcd3-289ee6bfb69b"
      },
      "execution_count": 16,
      "outputs": [
        {
          "output_type": "execute_result",
          "data": {
            "text/plain": [
              "3.8333333333333335"
            ]
          },
          "metadata": {},
          "execution_count": 16
        }
      ]
    },
    {
      "cell_type": "code",
      "source": [
        "import math "
      ],
      "metadata": {
        "id": "_nSaAWOw67Xo"
      },
      "execution_count": 17,
      "outputs": []
    },
    {
      "cell_type": "code",
      "source": [
        "h = math.ceil(h)\n",
        "h"
      ],
      "metadata": {
        "colab": {
          "base_uri": "https://localhost:8080/"
        },
        "id": "zqaSnGgF69YQ",
        "outputId": "d6fc2875-2509-44a3-facb-afd6dff7d856"
      },
      "execution_count": 19,
      "outputs": [
        {
          "output_type": "execute_result",
          "data": {
            "text/plain": [
              "4"
            ]
          },
          "metadata": {},
          "execution_count": 19
        }
      ]
    },
    {
      "cell_type": "markdown",
      "source": [
        "# **Construção da distribuição de frequencia**"
      ],
      "metadata": {
        "id": "-pFwELHn7MQe"
      }
    },
    {
      "cell_type": "code",
      "source": [
        "intervalos = np.arange(minimo, maximo + 2, step = h)\n",
        "intervalos"
      ],
      "metadata": {
        "colab": {
          "base_uri": "https://localhost:8080/"
        },
        "id": "v4QHZJ9p7QO4",
        "outputId": "1210d590-c5c6-4ad3-d12f-472f96b84293"
      },
      "execution_count": 22,
      "outputs": [
        {
          "output_type": "execute_result",
          "data": {
            "text/plain": [
              "array([150, 154, 158, 162, 166, 170, 174])"
            ]
          },
          "metadata": {},
          "execution_count": 22
        }
      ]
    },
    {
      "cell_type": "code",
      "source": [
        "intervalo1, intervalo2, intervalo3, intervalo4, intervalo5, intervalo6 = 0,0,0,0,0,0\n",
        "for i in range(n):\n",
        "  if dados[i] >= intervalos[0] and dados[i] < intervalos[1]:\n",
        "    intervalo1 += 1\n",
        "  elif dados[i] >= intervalos[1] and dados[i] < intervalos[2]:\n",
        "    intervalo2 += 1\n",
        "  elif dados[i] >= intervalos[2] and dados[i] < intervalos[3]:\n",
        "    intervalo3 += 1\n",
        "  elif dados[i] >= intervalos[3] and dados[i] < intervalos[4]:\n",
        "    intervalo4 += 1  \n",
        "  elif dados[i] >= intervalos[4] and dados[i] < intervalos[5]:\n",
        "    intervalo5 += 1\n",
        "  elif dados[i] >= intervalos[5] and dados[i] < intervalos[6]:\n",
        "    intervalo6 += 1"
      ],
      "metadata": {
        "id": "crKkJwiq7pCA"
      },
      "execution_count": 24,
      "outputs": []
    },
    {
      "cell_type": "code",
      "source": [
        "lista_intervalos = []\n",
        "lista_intervalos.append(intervalo1)\n",
        "lista_intervalos.append(intervalo2)\n",
        "lista_intervalos.append(intervalo3)\n",
        "lista_intervalos.append(intervalo4)\n",
        "lista_intervalos.append(intervalo5)\n",
        "lista_intervalos.append(intervalo6)\n",
        "lista_intervalos"
      ],
      "metadata": {
        "colab": {
          "base_uri": "https://localhost:8080/"
        },
        "id": "GykvZVTg-GAo",
        "outputId": "40dec970-ebed-4f97-906a-50c286d2dd45"
      },
      "execution_count": 25,
      "outputs": [
        {
          "output_type": "execute_result",
          "data": {
            "text/plain": [
              "[5, 9, 11, 7, 5, 3]"
            ]
          },
          "metadata": {},
          "execution_count": 25
        }
      ]
    },
    {
      "cell_type": "code",
      "source": [
        "lista_classes = []\n",
        "for i in range(len(lista_intervalos)):\n",
        "  lista_classes.append(str(intervalos[i])+ '-' + str(intervalos[i + 1]))"
      ],
      "metadata": {
        "id": "Z4t50DtK-oHn"
      },
      "execution_count": 26,
      "outputs": []
    },
    {
      "cell_type": "code",
      "source": [
        "lista_classes"
      ],
      "metadata": {
        "colab": {
          "base_uri": "https://localhost:8080/"
        },
        "id": "ZENU73OW_B_X",
        "outputId": "800c84b0-28f9-4f7d-aa94-f8f4b3041196"
      },
      "execution_count": 27,
      "outputs": [
        {
          "output_type": "execute_result",
          "data": {
            "text/plain": [
              "['150-154', '154-158', '158-162', '162-166', '166-170', '170-174']"
            ]
          },
          "metadata": {},
          "execution_count": 27
        }
      ]
    },
    {
      "cell_type": "code",
      "source": [
        "plt.bar(lista_classes, lista_intervalos);\n",
        "plt.title('Distribuição de frequencia - histograma');\n",
        "plt.xlabel('intervalos');\n",
        "plt.ylabel('valores');"
      ],
      "metadata": {
        "colab": {
          "base_uri": "https://localhost:8080/",
          "height": 295
        },
        "id": "X6SO3b8E_Nk2",
        "outputId": "44cd76ba-a3f8-43aa-8d5d-8f568158b02a"
      },
      "execution_count": 28,
      "outputs": [
        {
          "output_type": "display_data",
          "data": {
            "text/plain": [
              "<Figure size 432x288 with 1 Axes>"
            ],
            "image/png": "[encoded data removed]"
          },
          "metadata": {
            "needs_background": "light"
          }
        }
      ]
    }
  ]
}