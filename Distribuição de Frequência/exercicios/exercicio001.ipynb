{
  "nbformat": 4,
  "nbformat_minor": 0,
  "metadata": {
    "colab": {
      "provenance": []
    },
    "kernelspec": {
      "name": "python3",
      "display_name": "Python 3"
    },
    "language_info": {
      "name": "python"
    }
  },
  "cells": [
    {
      "cell_type": "code",
      "execution_count": null,
      "metadata": {
        "id": "Z6bfEC4pJ5Fe"
      },
      "outputs": [],
      "source": [
        "import pandas as pd\n",
        "import numpy as np \n",
        "import seaborn as sns\n",
        "import matplotlib.pyplot as plt"
      ]
    },
    {
      "cell_type": "code",
      "source": [
        "dados = pd.read_csv('/content/drive/MyDrive/census.csv')\n",
        "dados.dropna(inplace=True)"
      ],
      "metadata": {
        "id": "p6nAzOnZKxGU"
      },
      "execution_count": null,
      "outputs": []
    },
    {
      "cell_type": "code",
      "source": [
        "dados['age'].max(), dados['age'].min()"
      ],
      "metadata": {
        "colab": {
          "base_uri": "https://localhost:8080/"
        },
        "id": "m38j0p1cLKhr",
        "outputId": "b5f7f5f2-d2bc-4b3a-a3ad-2377b7dbd90a"
      },
      "execution_count": null,
      "outputs": [
        {
          "output_type": "execute_result",
          "data": {
            "text/plain": [
              "(90, 17)"
            ]
          },
          "metadata": {},
          "execution_count": 30
        }
      ]
    },
    {
      "cell_type": "code",
      "source": [
        "dados['age'].plot.hist();"
      ],
      "metadata": {
        "colab": {
          "base_uri": "https://localhost:8080/",
          "height": 265
        },
        "id": "5cq6KJpnQzaS",
        "outputId": "a1644ed8-b5d0-4c26-f7c0-bf444eed0b7c"
      },
      "execution_count": null,
      "outputs": [
        {
          "output_type": "display_data",
          "data": {
            "text/plain": [
              "<Figure size 432x288 with 1 Axes>"
            ],
            "image/png": "[encoded data removed]"
          },
          "metadata": {
            "needs_background": "light"
          }
        }
      ]
    },
    {
      "cell_type": "code",
      "source": [
        "dados['age'] = pd.cut(dados['age'], bins=[0,17,25,40,60,90], labels=['faixa1','faixa2','faixa3','faixa4','faixa5'])"
      ],
      "metadata": {
        "id": "GaF75TwnSnnw"
      },
      "execution_count": null,
      "outputs": []
    },
    {
      "cell_type": "code",
      "source": [
        "dados['age'].unique()"
      ],
      "metadata": {
        "colab": {
          "base_uri": "https://localhost:8080/"
        },
        "id": "6IQwr4GOTF3Z",
        "outputId": "3f51107c-b107-4f16-9327-bd92bfa4c05f"
      },
      "execution_count": null,
      "outputs": [
        {
          "output_type": "execute_result",
          "data": {
            "text/plain": [
              "['faixa3', 'faixa4', 'faixa2', 'faixa5', 'faixa1']\n",
              "Categories (5, object): ['faixa1' < 'faixa2' < 'faixa3' < 'faixa4' < 'faixa5']"
            ]
          },
          "metadata": {},
          "execution_count": 35
        }
      ]
    }
  ]
}