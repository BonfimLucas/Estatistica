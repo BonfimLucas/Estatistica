{
  "nbformat": 4,
  "nbformat_minor": 0,
  "metadata": {
    "colab": {
      "provenance": [],
      "collapsed_sections": [
        "GEyoAQryXlzM"
      ],
      "toc_visible": true
    },
    "kernelspec": {
      "name": "python3",
      "display_name": "Python 3"
    },
    "language_info": {
      "name": "python"
    }
  },
  "cells": [
    {
      "cell_type": "markdown",
      "source": [
        "# **MEDIDAS DE POSIÇÃO E DISPERSÃO**"
      ],
      "metadata": {
        "id": "aCspsen9XhJq"
      }
    },
    {
      "cell_type": "markdown",
      "source": [
        "# BASE DE DADOS"
      ],
      "metadata": {
        "id": "GEyoAQryXlzM"
      }
    },
    {
      "cell_type": "code",
      "source": [
        "\n",
        "import numpy as np\n",
        "import statistics\n",
        "from scipy import stats\n",
        "import math"
      ],
      "metadata": {
        "id": "wD1hGMhiXpGE"
      },
      "execution_count": null,
      "outputs": []
    },
    {
      "cell_type": "code",
      "source": [
        "dados = np.array([150, 151, 152, 152, 153, 154, 155, 155, 155, 155, 156, 156, 156,\n",
        "                  157, 158, 158, 160, 160, 160, 160, 160, 161, 161, 161, 161, 162,\n",
        "                  163, 163, 164, 164, 164, 165, 166, 167, 168, 168, 169, 170, 172,\n",
        "                  173])"
      ],
      "metadata": {
        "id": "2ztr6BE9X8mj"
      },
      "execution_count": null,
      "outputs": []
    },
    {
      "cell_type": "code",
      "source": [],
      "metadata": {
        "id": "ptPniss6YC10"
      },
      "execution_count": null,
      "outputs": []
    },
    {
      "cell_type": "markdown",
      "source": [
        "# MEDIA ARITMÉTICA SIMPLES\n"
      ],
      "metadata": {
        "id": "FcWU1cxUYKij"
      }
    },
    {
      "cell_type": "code",
      "source": [
        "dados.sum() / len(dados)"
      ],
      "metadata": {
        "colab": {
          "base_uri": "https://localhost:8080/"
        },
        "id": "RVhx6xadYNxr",
        "outputId": "0299bb2a-6df7-4976-9415-053be299b5ac"
      },
      "execution_count": null,
      "outputs": [
        {
          "output_type": "execute_result",
          "data": {
            "text/plain": [
              "160.375"
            ]
          },
          "metadata": {},
          "execution_count": 18
        }
      ]
    },
    {
      "cell_type": "code",
      "source": [
        "dados.mean()"
      ],
      "metadata": {
        "colab": {
          "base_uri": "https://localhost:8080/"
        },
        "id": "l2g38zVhYbCz",
        "outputId": "bc9c111c-63c6-4296-c57f-f9fca2b09172"
      },
      "execution_count": null,
      "outputs": [
        {
          "output_type": "execute_result",
          "data": {
            "text/plain": [
              "160.375"
            ]
          },
          "metadata": {},
          "execution_count": 19
        }
      ]
    },
    {
      "cell_type": "code",
      "source": [
        "statistics.mean(dados)"
      ],
      "metadata": {
        "colab": {
          "base_uri": "https://localhost:8080/"
        },
        "id": "3coMaOZiYeJD",
        "outputId": "b1048c2f-3a7c-4b43-ffcb-ac1bfd91c805"
      },
      "execution_count": null,
      "outputs": [
        {
          "output_type": "execute_result",
          "data": {
            "text/plain": [
              "160"
            ]
          },
          "metadata": {},
          "execution_count": 20
        }
      ]
    },
    {
      "cell_type": "markdown",
      "source": [
        "# MODA"
      ],
      "metadata": {
        "id": "DvnlGCw6YlRr"
      }
    },
    {
      "cell_type": "code",
      "source": [
        "statistics.mode(dados)"
      ],
      "metadata": {
        "colab": {
          "base_uri": "https://localhost:8080/"
        },
        "id": "rTXmVXeJYnS8",
        "outputId": "29c3032c-1287-49fb-9373-b464dbcfe841"
      },
      "execution_count": null,
      "outputs": [
        {
          "output_type": "execute_result",
          "data": {
            "text/plain": [
              "160"
            ]
          },
          "metadata": {},
          "execution_count": 21
        }
      ]
    },
    {
      "cell_type": "code",
      "source": [
        "stats.mode(dados)"
      ],
      "metadata": {
        "colab": {
          "base_uri": "https://localhost:8080/"
        },
        "id": "K0UzbfX9Yqv8",
        "outputId": "dc5ee58b-5e66-4c73-dfd4-3be515039aac"
      },
      "execution_count": null,
      "outputs": [
        {
          "output_type": "execute_result",
          "data": {
            "text/plain": [
              "ModeResult(mode=array([160]), count=array([5]))"
            ]
          },
          "metadata": {},
          "execution_count": 22
        }
      ]
    },
    {
      "cell_type": "markdown",
      "source": [
        "# MEDIANA"
      ],
      "metadata": {
        "id": "JE3oHzRuY1oD"
      }
    },
    {
      "cell_type": "code",
      "source": [
        "dados_impar = [150, 151, 152, 152, 153, 154, 155, 155, 155]"
      ],
      "metadata": {
        "id": "KIeeP9BAZBqD"
      },
      "execution_count": null,
      "outputs": []
    },
    {
      "cell_type": "markdown",
      "source": [
        "# CALCULO MANUAL (IMPAR)"
      ],
      "metadata": {
        "id": "zXLmKK9laf_S"
      }
    },
    {
      "cell_type": "code",
      "source": [
        "posição = len(dados_impar) / 2\n",
        "posição"
      ],
      "metadata": {
        "colab": {
          "base_uri": "https://localhost:8080/"
        },
        "id": "JaDsbc6vbP3b",
        "outputId": "84b45603-7569-4858-8152-20f8c83bbaaa"
      },
      "execution_count": null,
      "outputs": [
        {
          "output_type": "execute_result",
          "data": {
            "text/plain": [
              "4.5"
            ]
          },
          "metadata": {},
          "execution_count": 29
        }
      ]
    },
    {
      "cell_type": "code",
      "source": [
        "posição = math.ceil(posição)\n",
        "posição"
      ],
      "metadata": {
        "colab": {
          "base_uri": "https://localhost:8080/"
        },
        "id": "4IoU9y7NbZ_r",
        "outputId": "b3d4b3be-15b9-42c2-813f-ea035bed6a8e"
      },
      "execution_count": null,
      "outputs": [
        {
          "output_type": "execute_result",
          "data": {
            "text/plain": [
              "5"
            ]
          },
          "metadata": {},
          "execution_count": 30
        }
      ]
    },
    {
      "cell_type": "code",
      "source": [
        "dados_impar[posição - 1]"
      ],
      "metadata": {
        "colab": {
          "base_uri": "https://localhost:8080/"
        },
        "id": "3zcupN72bjyy",
        "outputId": "68cbc480-8eaf-4d4f-8fea-dcb620aef2e8"
      },
      "execution_count": null,
      "outputs": [
        {
          "output_type": "execute_result",
          "data": {
            "text/plain": [
              "153"
            ]
          },
          "metadata": {},
          "execution_count": 31
        }
      ]
    },
    {
      "cell_type": "markdown",
      "source": [
        "# CALCULO MANUAL (PAR)"
      ],
      "metadata": {
        "id": "khF9wI4hcCnk"
      }
    },
    {
      "cell_type": "code",
      "source": [
        "posição = len(dados) // 2\n",
        "posição "
      ],
      "metadata": {
        "colab": {
          "base_uri": "https://localhost:8080/"
        },
        "id": "MU9Ftp4AcFmy",
        "outputId": "ed0fb3ae-ae16-4426-c004-844813356779"
      },
      "execution_count": null,
      "outputs": [
        {
          "output_type": "execute_result",
          "data": {
            "text/plain": [
              "20"
            ]
          },
          "metadata": {},
          "execution_count": 34
        }
      ]
    },
    {
      "cell_type": "code",
      "source": [
        "dados[posição  - 1], dados[posição]"
      ],
      "metadata": {
        "colab": {
          "base_uri": "https://localhost:8080/"
        },
        "id": "sws_GGqTcQoi",
        "outputId": "7d775a87-da40-4584-df95-692a70bb721c"
      },
      "execution_count": null,
      "outputs": [
        {
          "output_type": "execute_result",
          "data": {
            "text/plain": [
              "(160, 160)"
            ]
          },
          "metadata": {},
          "execution_count": 35
        }
      ]
    },
    {
      "cell_type": "code",
      "source": [
        "mediana = (dados[posição - 1] + dados[posição]) / 2\n",
        "mediana"
      ],
      "metadata": {
        "colab": {
          "base_uri": "https://localhost:8080/"
        },
        "id": "MWLKX7xictQq",
        "outputId": "889da96b-7e21-4d6a-a41d-4068bbf42275"
      },
      "execution_count": null,
      "outputs": [
        {
          "output_type": "execute_result",
          "data": {
            "text/plain": [
              "160.0"
            ]
          },
          "metadata": {},
          "execution_count": 36
        }
      ]
    },
    {
      "cell_type": "markdown",
      "source": [
        "# BIBLIOTECAS"
      ],
      "metadata": {
        "id": "mVotD50NdJ06"
      }
    },
    {
      "cell_type": "code",
      "source": [
        "np.median(dados_impar)"
      ],
      "metadata": {
        "colab": {
          "base_uri": "https://localhost:8080/"
        },
        "id": "O8ePoIw-dZ4K",
        "outputId": "6d47eee9-2423-49a9-a29c-7412b8a27d9f"
      },
      "execution_count": null,
      "outputs": [
        {
          "output_type": "execute_result",
          "data": {
            "text/plain": [
              "153.0"
            ]
          },
          "metadata": {},
          "execution_count": 37
        }
      ]
    },
    {
      "cell_type": "code",
      "source": [
        "np.median(dados)"
      ],
      "metadata": {
        "colab": {
          "base_uri": "https://localhost:8080/"
        },
        "id": "giLSWPnGddhq",
        "outputId": "2e1c9a4d-48a5-4771-f39a-3e6641712ac2"
      },
      "execution_count": null,
      "outputs": [
        {
          "output_type": "execute_result",
          "data": {
            "text/plain": [
              "160.0"
            ]
          },
          "metadata": {},
          "execution_count": 38
        }
      ]
    },
    {
      "cell_type": "code",
      "source": [
        "statistics.median(dados_impar)"
      ],
      "metadata": {
        "colab": {
          "base_uri": "https://localhost:8080/"
        },
        "id": "7we34gxcdfoy",
        "outputId": "cb295abd-31d0-4057-bd87-570faee50f07"
      },
      "execution_count": null,
      "outputs": [
        {
          "output_type": "execute_result",
          "data": {
            "text/plain": [
              "153"
            ]
          },
          "metadata": {},
          "execution_count": 39
        }
      ]
    },
    {
      "cell_type": "code",
      "source": [
        "statistics.median(dados)"
      ],
      "metadata": {
        "colab": {
          "base_uri": "https://localhost:8080/"
        },
        "id": "FHndBFMYdkCa",
        "outputId": "4d1bc168-e0a6-4362-f27e-fe3d0a8e7d83"
      },
      "execution_count": null,
      "outputs": [
        {
          "output_type": "execute_result",
          "data": {
            "text/plain": [
              "160.0"
            ]
          },
          "metadata": {},
          "execution_count": 40
        }
      ]
    },
    {
      "cell_type": "markdown",
      "source": [
        "# MEDIA ARITMÉTICA PONDERADA"
      ],
      "metadata": {
        "id": "AdU-QNlEgh_C"
      }
    },
    {
      "cell_type": "code",
      "source": [
        "notas = np.array([9, 8, 7, 3])\n",
        "pesos = np.array([1, 2, 3, 4])"
      ],
      "metadata": {
        "id": "pdsG6PMsgvZq"
      },
      "execution_count": null,
      "outputs": []
    },
    {
      "cell_type": "code",
      "source": [
        "(9 * 1 + 8 * 2 + 7 * 3 + 3 * 4) / (1 + 2 + 3 + 4)"
      ],
      "metadata": {
        "colab": {
          "base_uri": "https://localhost:8080/"
        },
        "id": "TfVujH4Bg0Ja",
        "outputId": "ab30ae7d-ad97-48ab-8938-bbe5e9a9e52f"
      },
      "execution_count": null,
      "outputs": [
        {
          "output_type": "execute_result",
          "data": {
            "text/plain": [
              "5.8"
            ]
          },
          "metadata": {},
          "execution_count": 42
        }
      ]
    },
    {
      "cell_type": "code",
      "source": [
        "media_ponderada = (notas * pesos).sum() / pesos.sum()\n",
        "media_ponderada"
      ],
      "metadata": {
        "colab": {
          "base_uri": "https://localhost:8080/"
        },
        "id": "QZ4hi1C1g2vR",
        "outputId": "782dcfae-9317-4024-e288-4c0ab53a5c10"
      },
      "execution_count": null,
      "outputs": [
        {
          "output_type": "execute_result",
          "data": {
            "text/plain": [
              "5.8"
            ]
          },
          "metadata": {},
          "execution_count": 43
        }
      ]
    },
    {
      "cell_type": "code",
      "source": [
        "np.average(notas, weights = pesos)"
      ],
      "metadata": {
        "colab": {
          "base_uri": "https://localhost:8080/"
        },
        "id": "enA20fC-hIVq",
        "outputId": "096d9d0d-95da-4c9d-d9d4-062919b24e0c"
      },
      "execution_count": null,
      "outputs": [
        {
          "output_type": "execute_result",
          "data": {
            "text/plain": [
              "5.8"
            ]
          },
          "metadata": {},
          "execution_count": 44
        }
      ]
    }
  ]
}